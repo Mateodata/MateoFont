{
 "cells": [
  {
   "cell_type": "markdown",
   "id": "d0b080d8-6857-4a63-9639-7b34a24a9688",
   "metadata": {
    "tags": []
   },
   "source": [
    "# Data Science Tools and Ecosystem #"
   ]
  },
  {
   "cell_type": "markdown",
   "id": "8c8f20e2-9211-489c-92a9-8b347fd0be68",
   "metadata": {},
   "source": [
    "In this notebook, Data Science Tools and Ecosystem are summarized."
   ]
  },
  {
   "cell_type": "markdown",
   "id": "6b7aa900-4e3e-4425-bc27-78636afb69b5",
   "metadata": {},
   "source": [
    "**Objectives:**\n",
    "\n",
    "- List popular languages for Data Science.\n",
    "- Introduce commonly used data science libraries.\n",
    "- Discuss essential development environment tools.\n",
    "- Provide examples of arithmetic expression evaluations.\n",
    "- Summarize key takeaways from the course.\n"
   ]
  },
  {
   "cell_type": "markdown",
   "id": "29747eb4-1637-461d-b18d-ffeea98c431d",
   "metadata": {
    "tags": []
   },
   "source": [
    "Some of the popular languages that Data Scientists use are:\n",
    "\n",
    "1. Python\n",
    "2. R\n",
    "3. Julia\n"
   ]
  },
  {
   "cell_type": "markdown",
   "id": "0cc2bf9a-9897-4794-9c60-f7eaa2a5dfc2",
   "metadata": {},
   "source": [
    "Some of the commonly used libraries used by Data Scientists include:\n",
    "\n",
    "1. Pandas\n",
    "2. NumPy\n",
    "3. Matplotlib\n"
   ]
  },
  {
   "cell_type": "markdown",
   "id": "e8904e9c-2560-4d35-abae-156cd55095b4",
   "metadata": {
    "tags": []
   },
   "source": [
    "| Data Science Tools  |\n",
    "|-------------------- |\n",
    "|  Jupyter Notebook   |\n",
    "|  Visual Studio Code |\n",
    "|  R studio           |\n",
    "\n"
   ]
  },
  {
   "cell_type": "markdown",
   "id": "7537d48c-8bd0-4c6d-9af2-53225efff938",
   "metadata": {
    "tags": []
   },
   "source": [
    "### Below are a few examples of evaluating arithmetic expressions in Python ###"
   ]
  },
  {
   "cell_type": "code",
   "execution_count": 7,
   "id": "c22255f3-19a5-4dd9-a6a0-70b7b2e0ae1d",
   "metadata": {
    "tags": []
   },
   "outputs": [
    {
     "data": {
      "text/plain": [
       "17"
      ]
     },
     "execution_count": 7,
     "metadata": {},
     "output_type": "execute_result"
    }
   ],
   "source": [
    "#This is a simple arithmetic expression to multiply then add integers.\n",
    "result = (3 * 4) + 5\n",
    "result\n"
   ]
  },
  {
   "cell_type": "code",
   "execution_count": 8,
   "id": "0c120ce5-f8eb-44fd-96f2-33e2f2875557",
   "metadata": {
    "tags": []
   },
   "outputs": [
    {
     "data": {
      "text/plain": [
       "3.3333333333333335"
      ]
     },
     "execution_count": 8,
     "metadata": {},
     "output_type": "execute_result"
    }
   ],
   "source": [
    "# This will convert 200 minutes to hours by dividing by 60.\n",
    "minutes = 200\n",
    "hours = minutes / 60\n",
    "hours\n"
   ]
  },
  {
   "cell_type": "markdown",
   "id": "127d18f4-1344-48fe-b4ee-f6585fef68ce",
   "metadata": {},
   "source": [
    "## Author\n",
    "MATEO SEBASTIÁN FONTES SILVA\n"
   ]
  },
  {
   "cell_type": "code",
   "execution_count": null,
   "id": "ce9a6038-a634-41f2-a6aa-50617944456b",
   "metadata": {},
   "outputs": [],
   "source": []
  }
 ],
 "metadata": {
  "kernelspec": {
   "display_name": "Python",
   "language": "python",
   "name": "conda-env-python-py"
  },
  "language_info": {
   "codemirror_mode": {
    "name": "ipython",
    "version": 3
   },
   "file_extension": ".py",
   "mimetype": "text/x-python",
   "name": "python",
   "nbconvert_exporter": "python",
   "pygments_lexer": "ipython3",
   "version": "3.7.12"
  }
 },
 "nbformat": 4,
 "nbformat_minor": 5
}
